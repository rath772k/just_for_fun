{
 "cells": [
  {
   "cell_type": "code",
   "execution_count": 1,
   "metadata": {},
   "outputs": [],
   "source": [
    "import pickle\n",
    "from tokenizers import BPETokenizer\n",
    "import torch\n",
    "from transformer import Transformer"
   ]
  },
  {
   "cell_type": "code",
   "execution_count": 2,
   "metadata": {},
   "outputs": [],
   "source": [
    "VOCAB_SIZE = 1000\n",
    "\n",
    "TOKENIZER_PATH = f\"tokenizers/bpe_{VOCAB_SIZE}_optimal_tokenizer.pkl\"\n",
    "DATA_PATH = \"../data/paul_graham_essay.txt\"\n",
    "TRAIN_DATA_PATH = f\"bpe_{VOCAB_SIZE}_optimal_train.pt\"\n",
    "TEST_DATA_PATH = f\"bpe_{VOCAB_SIZE}_optimal_test.pt\"\n",
    "\n",
    "DEVICE = \"cuda\"\n",
    "EMBED_SIZE = 384\n",
    "NUM_HEADS = 8\n",
    "CONTEXT_LENGTH = 64\n",
    "NUM_LAYERS = 12\n",
    "BATCH_SIZE = 32"
   ]
  },
  {
   "cell_type": "code",
   "execution_count": 3,
   "metadata": {},
   "outputs": [],
   "source": [
    "try:\n",
    "    with open(TOKENIZER_PATH, \"rb\") as f:\n",
    "        tokenizer = pickle.load(f)\n",
    "except:\n",
    "    tokenizer = BPETokenizer.build_tokenizer(DATA_PATH, VOCAB_SIZE)\n",
    "    with open(TOKENIZER_PATH, \"wb\") as f:\n",
    "        pickle.dump(tokenizer, f)"
   ]
  },
  {
   "cell_type": "code",
   "execution_count": 4,
   "metadata": {},
   "outputs": [
    {
     "data": {
      "text/plain": [
       "b'asdas'"
      ]
     },
     "execution_count": 4,
     "metadata": {},
     "output_type": "execute_result"
    }
   ],
   "source": [
    "\"asdas\".encode(\"utf-8\")"
   ]
  },
  {
   "cell_type": "code",
   "execution_count": 5,
   "metadata": {},
   "outputs": [],
   "source": [
    "root = {}\n",
    "def insert(word):\n",
    "    cur = root\n",
    "    for c in word:\n",
    "        cur[c] = cur.get(c, {})\n",
    "        cur = cur[c]\n",
    "    cur[\"end\"] = True\n",
    "\n",
    "def exist(word):\n",
    "    cur = root\n",
    "    for c in word:\n",
    "        cur = cur.get(c)\n",
    "        if cur is None:\n",
    "            return False\n",
    "    return cur.get(\"end\", False)"
   ]
  },
  {
   "cell_type": "code",
   "execution_count": 6,
   "metadata": {},
   "outputs": [],
   "source": [
    "tokenizer.inv_vocab = {v:k for k, v in tokenizer.vocab.items()}"
   ]
  },
  {
   "cell_type": "code",
   "execution_count": 7,
   "metadata": {},
   "outputs": [],
   "source": [
    "for word in tokenizer.inv_vocab:\n",
    "    insert(word[::-1])"
   ]
  },
  {
   "cell_type": "code",
   "execution_count": 8,
   "metadata": {},
   "outputs": [],
   "source": [
    "\n",
    "def encode_v2(self, text):\n",
    "    tokens = bytes(list(text.encode(\"utf-8\")))\n",
    "    n = len(tokens)\n",
    "    dp = [i for i in range(1, n+1)] + [0]\n",
    "    par = [i-1 for i in range(n)]\n",
    "    for i in range(n):\n",
    "        cur = root\n",
    "        for j in range(i, -1, -1):\n",
    "            cur = cur.get(tokens[j])\n",
    "            if cur is None:\n",
    "                break\n",
    "            if cur.get(\"end\", False):\n",
    "                if dp[j-1] + 1 < dp[i]:\n",
    "                    dp[i] = dp[j-1] +  1\n",
    "                    par[i] = j-1\n",
    "    new_tokens = []\n",
    "    cur = n-1\n",
    "    while cur != -1:\n",
    "        new_tokens.append(self.inv_vocab[tokens[par[cur]+1: cur+1]])\n",
    "        cur = par[cur]\n",
    "    new_tokens.reverse()\n",
    "    return new_tokens"
   ]
  },
  {
   "cell_type": "code",
   "execution_count": 9,
   "metadata": {},
   "outputs": [
    {
     "data": {
      "text/plain": [
       "[564, 32, 498, 459, 343]"
      ]
     },
     "execution_count": 9,
     "metadata": {},
     "output_type": "execute_result"
    }
   ],
   "source": [
    "tokenizer.encode(\"hi how are you\")"
   ]
  },
  {
   "cell_type": "code",
   "execution_count": 10,
   "metadata": {},
   "outputs": [
    {
     "data": {
      "text/plain": [
       "[564, 32, 498, 459, 343]"
      ]
     },
     "execution_count": 10,
     "metadata": {},
     "output_type": "execute_result"
    }
   ],
   "source": [
    "encode_v2(tokenizer, \"hi how are you\")"
   ]
  },
  {
   "cell_type": "code",
   "execution_count": 11,
   "metadata": {},
   "outputs": [],
   "source": [
    "try:\n",
    "    train_data = torch.load(TRAIN_DATA_PATH)\n",
    "    test_data = torch.load(TEST_DATA_PATH)\n",
    "except:\n",
    "    with open(DATA_PATH, \"r\") as f:\n",
    "        data = f.read()\n",
    "    # tokenized_data = torch.tensor(tokenizer.encode(data), dtype=torch.long)\n",
    "    tokenized_data = torch.tensor(encode_v2(tokenizer, data), dtype=torch.long)\n",
    "    n = int(0.9 * len(tokenized_data))\n",
    "    train_data = tokenized_data[:n]\n",
    "    test_data = tokenized_data[n:]\n",
    "    torch.save(train_data, TRAIN_DATA_PATH)\n",
    "    torch.save(test_data, TEST_DATA_PATH)"
   ]
  },
  {
   "cell_type": "code",
   "execution_count": 12,
   "metadata": {},
   "outputs": [
    {
     "data": {
      "text/plain": [
       "Transformer(\n",
       "  (token_embedding): Embedding(1000, 384)\n",
       "  (pos_embedding): Embedding(64, 384)\n",
       "  (attn_blocks): ModuleList(\n",
       "    (0-11): 12 x AttentionBlock(\n",
       "      (attn_heads): ModuleList(\n",
       "        (0-7): 8 x CausalSelfAttention(\n",
       "          (Q): Linear(in_features=384, out_features=48, bias=False)\n",
       "          (K): Linear(in_features=384, out_features=48, bias=False)\n",
       "          (V): Linear(in_features=384, out_features=48, bias=False)\n",
       "        )\n",
       "      )\n",
       "      (mlp): MLP(\n",
       "        (fcn): Linear(in_features=384, out_features=1536, bias=True)\n",
       "        (activation): ReLU()\n",
       "        (proj): Linear(in_features=1536, out_features=384, bias=True)\n",
       "      )\n",
       "      (layer_norm_1): LayerNorm((384,), eps=1e-05, elementwise_affine=True)\n",
       "      (layer_norm_2): LayerNorm((384,), eps=1e-05, elementwise_affine=True)\n",
       "    )\n",
       "  )\n",
       "  (lm_head): Linear(in_features=384, out_features=1000, bias=False)\n",
       ")"
      ]
     },
     "execution_count": 12,
     "metadata": {},
     "output_type": "execute_result"
    }
   ],
   "source": [
    "m = Transformer(\n",
    "    vocab_size=VOCAB_SIZE,\n",
    "    embed_size=EMBED_SIZE,\n",
    "    num_heads=NUM_HEADS,\n",
    "    context_length=CONTEXT_LENGTH,\n",
    "    num_layers=NUM_LAYERS,\n",
    ")\n",
    "m.to(DEVICE)"
   ]
  },
  {
   "cell_type": "code",
   "execution_count": 13,
   "metadata": {},
   "outputs": [],
   "source": [
    "unif = torch.ones(train_data.shape[0] - CONTEXT_LENGTH, device=DEVICE)\n",
    "\n",
    "\n",
    "def get_batch():\n",
    "    batch_indices = unif.multinomial(BATCH_SIZE, replacement=False)\n",
    "    inputs = torch.stack([train_data[i : i + CONTEXT_LENGTH] for i in batch_indices])\n",
    "    targets = torch.stack(\n",
    "        [train_data[i + 1 : i + 1 + CONTEXT_LENGTH] for i in batch_indices]\n",
    "    )\n",
    "    inputs = inputs.to(DEVICE)\n",
    "    targets = targets.to(DEVICE)\n",
    "    return inputs, targets\n",
    "\n",
    "\n",
    "logits, loss = m(*get_batch())"
   ]
  },
  {
   "cell_type": "code",
   "execution_count": 14,
   "metadata": {},
   "outputs": [
    {
     "data": {
      "text/plain": [
       "torch.Size([32, 64, 1000])"
      ]
     },
     "execution_count": 14,
     "metadata": {},
     "output_type": "execute_result"
    }
   ],
   "source": [
    "logits.shape"
   ]
  },
  {
   "cell_type": "code",
   "execution_count": 15,
   "metadata": {},
   "outputs": [
    {
     "data": {
      "text/plain": [
       "7.106886386871338"
      ]
     },
     "execution_count": 15,
     "metadata": {},
     "output_type": "execute_result"
    }
   ],
   "source": [
    "loss.item()"
   ]
  },
  {
   "cell_type": "code",
   "execution_count": 16,
   "metadata": {},
   "outputs": [
    {
     "name": "stdout",
     "output_type": "stream",
     "text": [
      "tensor([[542, 637, 278,  ..., 410, 296, 682],\n",
      "        [ 52, 732, 278,  ...,  45, 300, 118],\n",
      "        [105, 273, 294,  ..., 723, 273, 487],\n",
      "        ...,\n",
      "        [118, 276, 621,  ..., 799, 296, 550],\n",
      "        [ 66, 712, 672,  ..., 307, 105,  98],\n",
      "        [309, 758, 731,  ..., 524, 110, 886]], device='cuda:0')\n"
     ]
    },
    {
     "data": {
      "text/plain": [
       "tensor([[542, 637, 278,  ..., 296, 682, 170],\n",
       "        [ 52, 732, 278,  ..., 300, 118, 729],\n",
       "        [105, 273, 294,  ..., 273, 487, 504],\n",
       "        ...,\n",
       "        [118, 276, 621,  ..., 296, 550, 191],\n",
       "        [ 66, 712, 672,  ..., 105,  98, 313],\n",
       "        [309, 758, 731,  ..., 110, 886, 604]], device='cuda:0')"
      ]
     },
     "execution_count": 16,
     "metadata": {},
     "output_type": "execute_result"
    }
   ],
   "source": [
    "start_idx = get_batch()[0]\n",
    "print(start_idx)\n",
    "m.generate(start_idx, 1)"
   ]
  },
  {
   "cell_type": "code",
   "execution_count": 17,
   "metadata": {},
   "outputs": [
    {
     "name": "stdout",
     "output_type": "stream",
     "text": [
      "I was a�s, ut ap�ati, and we I got fulstill ci�InI was gra�make d of �ound �a b're �out people oundmade rother �long and�ge�th surproblema�shit was HmoXYCst tter ldtter their �at y \n",
      "\n",
      "them thes�ought s, after �pamowas �membd\n",
      "\n",
      "ic coualizal desitting few OdifferY ic\u001d\\s and \u0000K0 wto get at the encas asgi—know \n"
     ]
    }
   ],
   "source": [
    "with torch.no_grad():\n",
    "    print(\n",
    "        tokenizer.decode(\n",
    "            m.generate(torch.tensor([encode_v2(tokenizer, \"I was a\")], device=DEVICE), 100)[\n",
    "                0\n",
    "            ].tolist()\n",
    "        )\n",
    "    )"
   ]
  },
  {
   "cell_type": "code",
   "execution_count": 18,
   "metadata": {},
   "outputs": [],
   "source": [
    "optim = torch.optim.AdamW(params=m.parameters(), lr=1e-4)"
   ]
  },
  {
   "cell_type": "code",
   "execution_count": 19,
   "metadata": {},
   "outputs": [
    {
     "name": "stdout",
     "output_type": "stream",
     "text": [
      "7.134923458099365\n",
      "6.253140449523926\n",
      "6.113219738006592\n",
      "4.643240928649902\n",
      "4.112448215484619\n",
      "3.5908052921295166\n",
      "3.013568878173828\n",
      "2.3879692554473877\n",
      "1.7144330739974976\n",
      "1.162097454071045\n",
      "I was away for hous. My kriinputing to a h? E�working on this new ear of which made took able fience there even a every few years later, but qtur [7. What onwn as a things iners investpublishing againly obvanized. The Huhave saidentifially intenthey would even made investors were about proin the Now I realized for the ttknew understs they were \n"
     ]
    }
   ],
   "source": [
    "for step in range(1000):\n",
    "    _, loss = m(*get_batch())\n",
    "    optim.zero_grad()\n",
    "    loss.backward()\n",
    "    optim.step()\n",
    "    if step % 100 == 0:\n",
    "        print(loss.item())\n",
    "with torch.no_grad():\n",
    "    print(\n",
    "        tokenizer.decode(\n",
    "            m.generate(torch.tensor([encode_v2(tokenizer, \"I was a\")], device=DEVICE), 100)[\n",
    "                0\n",
    "            ].tolist()\n",
    "        )\n",
    "    )"
   ]
  },
  {
   "cell_type": "code",
   "execution_count": 20,
   "metadata": {},
   "outputs": [
    {
     "name": "stdout",
     "output_type": "stream",
     "text": [
      "0.7036764025688171\n",
      "0.5116625428199768\n",
      "0.39318740367889404\n",
      "0.3209279179573059\n",
      "0.2617420554161072\n",
      "0.24070613086223602\n",
      "0.25220435857772827\n",
      "0.2150314599275589\n",
      "0.1945553869009018\n",
      "0.16299012303352356\n",
      "I was ave art day I was since anta leactuel investmentations, and a notiy. They to read in S-8write some software and never have finishe'd made them dealing the copy but college to server.\n",
      "\n",
      "you could intenthese insteate was no idea that seemed let the founders paid of still 9ly alanswer that I learned some users retization, that I couldn't exc\n"
     ]
    }
   ],
   "source": [
    "# Let's do a 1000 more steps and see\n",
    "for step in range(1000):\n",
    "    _, loss = m(*get_batch())\n",
    "    optim.zero_grad()\n",
    "    loss.backward()\n",
    "    optim.step()\n",
    "    if step % 100 == 0:\n",
    "        print(loss.item())\n",
    "with torch.no_grad():\n",
    "    print(\n",
    "        tokenizer.decode(\n",
    "            m.generate(torch.tensor([encode_v2(tokenizer, \"I was a\")], device=DEVICE), 100)[\n",
    "                0\n",
    "            ].tolist()\n",
    "        )\n",
    "    )"
   ]
  },
  {
   "cell_type": "code",
   "execution_count": 21,
   "metadata": {},
   "outputs": [
    {
     "name": "stdout",
     "output_type": "stream",
     "text": [
      "0.1760077327489853\n",
      "0.17825593054294586\n",
      "0.17376434803009033\n",
      "0.152085542678833\n",
      "0.14306595921516418\n",
      "0.15635034441947937\n",
      "0.12387169897556305\n",
      "0.12796637415885925\n",
      "0.14019951224327087\n",
      "0.13738314807415009\n",
      "I was aircrew the reitions I was about to discover.\n",
      "\n",
      "I applied to 3 grad schools: MIT and after ally. And a lot work. [25 to continue my ks jeroom legineed. Wherages of doing one, we would have been so many ular known in a so. It. The specience of Lisp that it oncto, and then outI topic. In returned \n"
     ]
    }
   ],
   "source": [
    "# 1000 more?\n",
    "for step in range(1000):\n",
    "    _, loss = m(*get_batch())\n",
    "    optim.zero_grad()\n",
    "    loss.backward()\n",
    "    optim.step()\n",
    "    if step % 100 == 0:\n",
    "        print(loss.item())\n",
    "with torch.no_grad():\n",
    "    print(\n",
    "        tokenizer.decode(\n",
    "            m.generate(torch.tensor([encode_v2(tokenizer, \"I was a\")], device=DEVICE), 100)[\n",
    "                0\n",
    "            ].tolist()\n",
    "        )\n",
    "    )"
   ]
  },
  {
   "cell_type": "code",
   "execution_count": 22,
   "metadata": {},
   "outputs": [
    {
     "name": "stdout",
     "output_type": "stream",
     "text": [
      "I wanted not just to build thingsycal-que sites of making paintings and living in New York.\n",
      "\n",
      "I was nervous about money, because I could sense that Interleaf was on the way doage store hack for there was an upper to be between conventional oess is the optimate tried to her missaid I worked for VC that actually made with this HN, it who else \n"
     ]
    }
   ],
   "source": [
    "with torch.no_grad():\n",
    "    print(\n",
    "        tokenizer.decode(\n",
    "            m.generate(\n",
    "                torch.tensor(\n",
    "                    [encode_v2(tokenizer, \"I wanted not just to build things\")],\n",
    "                    device=DEVICE,\n",
    "                ),\n",
    "                100,\n",
    "            )[0].tolist()\n",
    "        )\n",
    "    )"
   ]
  },
  {
   "cell_type": "code",
   "execution_count": 25,
   "metadata": {},
   "outputs": [
    {
     "data": {
      "text/plain": [
       "24187"
      ]
     },
     "execution_count": 25,
     "metadata": {},
     "output_type": "execute_result"
    }
   ],
   "source": [
    "len(train_data) + len(test_data)"
   ]
  },
  {
   "cell_type": "code",
   "execution_count": 30,
   "metadata": {},
   "outputs": [],
   "source": [
    "losses_optimal = [7.134923458099365,\n",
    " 6.253140449523926,\n",
    " 6.113219738006592,\n",
    " 4.643240928649902,\n",
    " 4.112448215484619,\n",
    " 3.5908052921295166,\n",
    " 3.013568878173828,\n",
    " 2.3879692554473877,\n",
    " 1.7144330739974976,\n",
    " 1.162097454071045,\n",
    " 0.7036764025688171,\n",
    " 0.5116625428199768,\n",
    " 0.39318740367889404,\n",
    " 0.3209279179573059,\n",
    " 0.2617420554161072,\n",
    " 0.24070613086223602,\n",
    " 0.25220435857772827,\n",
    " 0.2150314599275589,\n",
    " 0.1945553869009018,\n",
    " 0.16299012303352356,\n",
    " 0.1760077327489853,\n",
    " 0.17825593054294586,\n",
    " 0.17376434803009033,\n",
    " 0.152085542678833,\n",
    " 0.14306595921516418,\n",
    " 0.15635034441947937,\n",
    " 0.12387169897556305,\n",
    " 0.12796637415885925,\n",
    " 0.14019951224327087,\n",
    " 0.13738314807415009]"
   ]
  },
  {
   "cell_type": "code",
   "execution_count": 31,
   "metadata": {},
   "outputs": [],
   "source": [
    "losses_greedy = [7.061542987823486,\n",
    " 6.245255470275879,\n",
    " 5.356468677520752,\n",
    " 4.347721099853516,\n",
    " 3.8550236225128174,\n",
    " 3.4973127841949463,\n",
    " 2.962090253829956,\n",
    " 2.2358956336975098,\n",
    " 1.5125809907913208,\n",
    " 0.9945037961006165,\n",
    " 0.6650863289833069,\n",
    " 0.48293110728263855,\n",
    " 0.35592928528785706,\n",
    " 0.31363072991371155,\n",
    " 0.27621620893478394,\n",
    " 0.2521527111530304,\n",
    " 0.22401702404022217,\n",
    " 0.21059758961200714,\n",
    " 0.20255036652088165,\n",
    " 0.18780313432216644,\n",
    " 0.17992229759693146,\n",
    " 0.16258060932159424,\n",
    " 0.1676357239484787,\n",
    " 0.16767027974128723,\n",
    " 0.14056962728500366,\n",
    " 0.16359587013721466,\n",
    " 0.1349770575761795,\n",
    " 0.13539303839206696,\n",
    " 0.12565146386623383,\n",
    " 0.13672854006290436]"
   ]
  },
  {
   "cell_type": "code",
   "execution_count": 32,
   "metadata": {},
   "outputs": [
    {
     "data": {
      "image/png": "[encoded data removed]",
      "text/plain": [
       "<Figure size 1000x600 with 1 Axes>"
      ]
     },
     "metadata": {},
     "output_type": "display_data"
    }
   ],
   "source": [
    "import matplotlib.pyplot as plt\n",
    "\n",
    "# Create the step numbers for x-axis\n",
    "steps = [i * 100 for i in range(1, len(losses_optimal) + 1)]\n",
    "\n",
    "# Create the plot for two runs\n",
    "plt.figure(figsize=(10, 6))\n",
    "plt.plot(steps, losses_optimal, color='c', marker='o', linestyle='-', linewidth=2, markersize=8, label='Optimal encoding')\n",
    "plt.plot(steps, losses_greedy, color='m', marker='s', linestyle='--', linewidth=2, markersize=8, label='Greedy encoding')\n",
    "\n",
    "# Customize the plot\n",
    "plt.title('Cross Entropy Loss Over Training Steps (Two Runs)', fontsize=16, fontweight='bold', color='navy')\n",
    "plt.xlabel('Steps', fontsize=14, color='darkred')\n",
    "plt.ylabel('Cross Entropy Loss', fontsize=14, color='darkred')\n",
    "plt.grid(True, which='both', linestyle='--', linewidth=0.5, color='gray')\n",
    "plt.xticks(fontsize=12)\n",
    "plt.yticks(fontsize=12)\n",
    "plt.legend(fontsize=12)\n",
    "plt.tight_layout()\n",
    "\n",
    "# Show the plot\n",
    "plt.show()\n"
   ]
  },
  {
   "cell_type": "code",
   "execution_count": null,
   "metadata": {},
   "outputs": [],
   "source": []
  }
 ],
 "metadata": {
  "kernelspec": {
   "display_name": "Python 3 (ipykernel)",
   "language": "python",
   "name": "python3"
  },
  "language_info": {
   "codemirror_mode": {
    "name": "ipython",
    "version": 3
   },
   "file_extension": ".py",
   "mimetype": "text/x-python",
   "name": "python",
   "nbconvert_exporter": "python",
   "pygments_lexer": "ipython3",
   "version": "3.10.12"
  }
 },
 "nbformat": 4,
 "nbformat_minor": 4
}
